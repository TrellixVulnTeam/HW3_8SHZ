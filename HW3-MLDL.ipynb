{
 "cells": [
  {
   "cell_type": "code",
   "execution_count": 1,
   "metadata": {
    "colab": {},
    "colab_type": "code",
    "id": "DokFOdD1dJEl"
   },
   "outputs": [],
   "source": [
    "import copy\n",
    "import numpy as np\n",
    "import pandas as pd\n",
    "import matplotlib.pyplot as plt\n",
    "import os\n",
    "import logging\n",
    "\n",
    "import torch\n",
    "import torch.nn as nn\n",
    "import torch.optim as optim\n",
    "from torch.utils.data import Subset, DataLoader\n",
    "from torch.backends import cudnn\n",
    "\n",
    "import torchvision\n",
    "from torchvision import transforms\n",
    "from torchvision.datasets.vision import StandardTransform\n",
    "\n",
    "from PIL import Image\n",
    "from tqdm import tqdm\n",
    "\n",
    "from DAlexnet import randomNetworkWithReverseGrad\n",
    "# from torchvision.models import alexnet\n"
   ]
  },
  {
   "cell_type": "markdown",
   "metadata": {
    "colab_type": "text",
    "id": "OIDLJuIXK_vh"
   },
   "source": [
    "**Set Arguments**"
   ]
  },
  {
   "cell_type": "code",
   "execution_count": 2,
   "metadata": {
    "colab": {},
    "colab_type": "code",
    "id": "d5PkYfqfK_SA"
   },
   "outputs": [],
   "source": [
    "DEVICE = 'cuda' # 'cuda' or 'cpu'\n",
    "\n",
    "NUM_CLASSES = 101 # 101 + 1: There is am extra Background class that should be removed\n",
    "NUM_DOMAINS = 2   # 2 domains each time\n",
    "\n",
    "ALFA = 10      #Alfa value for the GD branch of the DANN\n",
    "\n",
    "BATCH_SIZE = 64     # Higher batch sizes allows for larger learning rates. An empirical heuristic suggests that, when changing\n",
    "                     # the batch size, learning rate should change by the same factor to have comparable results\n",
    "\n",
    "LR = 1e-2            # The initial Learning Rate\n",
    "MOMENTUM = 0.9       # Hyperparameter for SGD, keep this at 0.9 when using SGD\n",
    "WEIGHT_DECAY = 5e-5  # Regularization, you can keep this at the default\n",
    "\n",
    "NUM_EPOCHS = 25  #30    # Total number of training epochs (iterations over dataset)\n",
    "STEP_SIZE = 12  #30    # How many epochs before decreasing learning rate (if using a step-down policy)\n",
    "GAMMA = 0.1          # Multiplicative factor for learning rate step-down\n",
    "\n",
    "LOG_FREQUENCY = 10"
   ]
  },
  {
   "cell_type": "markdown",
   "metadata": {
    "colab_type": "text",
    "id": "9gwii0TBHvzh"
   },
   "source": [
    "**Define Data Preprocessing**"
   ]
  },
  {
   "cell_type": "code",
   "execution_count": 3,
   "metadata": {
    "colab": {},
    "colab_type": "code",
    "id": "QUDdw4j2H0Mc"
   },
   "outputs": [],
   "source": [
    "# Define transforms for training phase\n",
    "train_transform = transforms.Compose([transforms.Resize(256),      # Resizes short size of the PIL image to 256\n",
    "                                      transforms.CenterCrop(224),  # Crops a central square patch of the image\n",
    "                                                                   # 224 because torchvision's AlexNet needs a 224x224 input!\n",
    "                                      transforms.ToTensor(), # Turn PIL Image to torch.Tensor\n",
    "                                      #transforms.Normalize((0.5, 0.5, 0.5), (0.5, 0.5, 0.5)) # Normalizes tensor with mean and standard deviation\n",
    "                                      transforms.Normalize((0.485, 0.456, 0.406), (0.229, 0.224, 0.225))  # Mean and Std are provided by the ImageNet documentation\n",
    "                                    ])\n",
    "\n",
    "# Define transforms for the evaluation phase\n",
    "eval_transform = transforms.Compose([transforms.Resize(256),\n",
    "                                      transforms.CenterCrop(224),\n",
    "                                      transforms.ToTensor(),\n",
    "                                      # transforms.Normalize((0.5, 0.5, 0.5), (0.5, 0.5, 0.5))\n",
    "                                      transforms.Normalize((0.485, 0.456, 0.406), (0.229, 0.224, 0.225))\n",
    "                                    ])\n",
    "                                  #torchvision.transforms.RandomHorizontalFlip(p=0.5),\n",
    "                                      #torchvision.transforms.RandomGrayscale(p=0.1),                             # 224 because torchvision's AlexNet needs a 224x224 input!\n",
    "                                      #transforms.TenCrop(224, vertical_flip=False),"
   ]
  },
  {
   "cell_type": "markdown",
   "metadata": {
    "colab_type": "text",
    "id": "2qYIHPzYLY7i"
   },
   "source": [
    "**Prepare Dataset**"
   ]
  },
  {
   "cell_type": "code",
   "execution_count": 4,
   "metadata": {
    "colab": {
     "base_uri": "https://localhost:8080/",
     "height": 134
    },
    "colab_type": "code",
    "executionInfo": {
     "elapsed": 1558,
     "status": "error",
     "timestamp": 1588595184793,
     "user": {
      "displayName": "Edoardo Pinna",
      "photoUrl": "https://lh3.googleusercontent.com/a-/AOh14GhD3hpmCtDKV9X0a7rGiQ2t9evyVeYOD9x69IrC=s64",
      "userId": "07286142465517714137"
     },
     "user_tz": -120
    },
    "id": "QfVq_uDHLbsR",
    "outputId": "e256c03e-8ce4-49ea-d576-e13c5cf37943"
   },
   "outputs": [
    {
     "name": "stdout",
     "output_type": "stream",
     "text": [
      "Train Dataset: 1670\n",
      "Valid Dataset: 2344\n",
      "Valid Dataset: 3929\n",
      "Test Dataset: 2048\n"
     ]
    }
   ],
   "source": [
    "DATA_DIR_PHOTO = 'PACS/photo'\n",
    "DATA_DIR_CARTOON = 'PACS/cartoon'\n",
    "DATA_DIR_SKETCH = 'PACS/sketch'\n",
    "DATA_DIR_ARTPAINTING = 'PACS/art_painting'\n",
    "\n",
    "# Prepare Pytorch train/test Datasets\n",
    "train_dataset = torchvision.datasets.ImageFolder(DATA_DIR_PHOTO, transform=train_transform)\n",
    "test_dataset = torchvision.datasets.ImageFolder(DATA_DIR_ARTPAINTING, transform=eval_transform)\n",
    "val1_dataset =torchvision.datasets.ImageFolder(DATA_DIR_CARTOON, transform=eval_transform)\n",
    "val2_dataset =torchvision.datasets.ImageFolder(DATA_DIR_SKETCH, transform=eval_transform)\n",
    "#train_indexes = [idx for idx in range(len(train_dataset)) if idx % 5]\n",
    "#test_indexes = [idx for idx in range(len(test_dataset)) if not idx % 5]\n",
    "\n",
    "# train_dataset = Subset(dataset, train_indexes)\n",
    "# val_dataset = Subset(dataset, val_indexes)\n",
    "\n",
    "# Check dataset sizes\n",
    "print('Train Dataset: {}'.format(len(train_dataset)))\n",
    "print('Valid Dataset: {}'.format(len(val1_dataset)))\n",
    "print('Valid Dataset: {}'.format(len(val2_dataset)))\n",
    "print('Test Dataset: {}'.format(len(test_dataset)))"
   ]
  },
  {
   "cell_type": "markdown",
   "metadata": {
    "colab_type": "text",
    "id": "FYEDQ7Z21ldN",
    "pycharm": {
     "name": "#%% md\n"
    }
   },
   "source": [
    "**Prepare Dataloaders**"
   ]
  },
  {
   "cell_type": "code",
   "execution_count": 5,
   "metadata": {
    "colab": {},
    "colab_type": "code",
    "id": "VriRw8SI1nle"
   },
   "outputs": [],
   "source": [
    "# Dataloaders iterate over pytorch datasets and transparently provide useful functions (e.g. parallelization and shuffling)\n",
    "train_dataloader = DataLoader(train_dataset, batch_size=BATCH_SIZE, shuffle=True, num_workers=4, drop_last=True)\n",
    "val1_dataloader = DataLoader(val1_dataset, batch_size=int(BATCH_SIZE), shuffle=False, num_workers=4)\n",
    "val2_dataloader = DataLoader(val2_dataset, batch_size=int(BATCH_SIZE), shuffle=False, num_workers=4)\n",
    "test_dataloader = DataLoader(test_dataset, batch_size=int(BATCH_SIZE/2), shuffle=False, num_workers=4) #Batch_size decrease for GPU ram problems"
   ]
  },
  {
   "cell_type": "markdown",
   "metadata": {
    "colab_type": "text",
    "id": "gbZ1t5Qs2z4j"
   },
   "source": [
    "**Prepare Network**"
   ]
  },
  {
   "cell_type": "code",
   "execution_count": 6,
   "metadata": {
    "colab": {},
    "colab_type": "code",
    "id": "exHUjtXa22DN"
   },
   "outputs": [
    {
     "ename": "RuntimeError",
     "evalue": "Error(s) in loading state_dict for RandomNetworkWithReverseGrad:\n\tMissing key(s) in state_dict: \"dann_classifier.1.weight\", \"dann_classifier.1.bias\", \"dann_classifier.4.weight\", \"dann_classifier.4.bias\", \"dann_classifier.6.weight\", \"dann_classifier.6.bias\". ",
     "output_type": "error",
     "traceback": [
      "\u001B[1;31m---------------------------------------------------------------------------\u001B[0m",
      "\u001B[1;31mRuntimeError\u001B[0m                              Traceback (most recent call last)",
      "\u001B[1;32m<ipython-input-6-f8a4bd0ed263>\u001B[0m in \u001B[0;36m<module>\u001B[1;34m\u001B[0m\n\u001B[1;32m----> 1\u001B[1;33m \u001B[0mnet\u001B[0m \u001B[1;33m=\u001B[0m \u001B[0mrandomNetworkWithReverseGrad\u001B[0m\u001B[1;33m(\u001B[0m\u001B[0mpretrained\u001B[0m\u001B[1;33m=\u001B[0m\u001B[1;32mTrue\u001B[0m\u001B[1;33m)\u001B[0m\u001B[1;33m\u001B[0m\u001B[1;33m\u001B[0m\u001B[0m\n\u001B[0m\u001B[0;32m      2\u001B[0m \u001B[0mbest_net\u001B[0m \u001B[1;33m=\u001B[0m \u001B[0mrandomNetworkWithReverseGrad\u001B[0m\u001B[1;33m(\u001B[0m\u001B[1;33m)\u001B[0m\u001B[1;33m\u001B[0m\u001B[1;33m\u001B[0m\u001B[0m\n\u001B[0;32m      3\u001B[0m \u001B[1;33m\u001B[0m\u001B[0m\n\u001B[0;32m      4\u001B[0m \u001B[0mnet\u001B[0m\u001B[1;33m.\u001B[0m\u001B[0mclassifier\u001B[0m\u001B[1;33m[\u001B[0m\u001B[1;36m6\u001B[0m\u001B[1;33m]\u001B[0m \u001B[1;33m=\u001B[0m \u001B[0mnn\u001B[0m\u001B[1;33m.\u001B[0m\u001B[0mLinear\u001B[0m\u001B[1;33m(\u001B[0m\u001B[1;36m4096\u001B[0m\u001B[1;33m,\u001B[0m \u001B[0mNUM_CLASSES\u001B[0m\u001B[1;33m)\u001B[0m\u001B[1;33m\u001B[0m\u001B[1;33m\u001B[0m\u001B[0m\n\u001B[0;32m      5\u001B[0m \u001B[0mnet\u001B[0m\u001B[1;33m.\u001B[0m\u001B[0mdann_classifier\u001B[0m\u001B[1;33m[\u001B[0m\u001B[1;36m6\u001B[0m\u001B[1;33m]\u001B[0m\u001B[1;33m=\u001B[0m \u001B[0mnn\u001B[0m\u001B[1;33m.\u001B[0m\u001B[0mLinear\u001B[0m\u001B[1;33m(\u001B[0m\u001B[1;36m4096\u001B[0m\u001B[1;33m,\u001B[0m \u001B[0mNUM_DOMAINS\u001B[0m\u001B[1;33m)\u001B[0m\u001B[1;33m\u001B[0m\u001B[1;33m\u001B[0m\u001B[0m\n",
      "\u001B[1;32m~\\PycharmProjects\\HW3\\DAlexnet.py\u001B[0m in \u001B[0;36mrandomNetworkWithReverseGrad\u001B[1;34m(pretrained, progress, **kwargs)\u001B[0m\n\u001B[0;32m     67\u001B[0m     \u001B[1;32mif\u001B[0m \u001B[0mpretrained\u001B[0m\u001B[1;33m:\u001B[0m\u001B[1;33m\u001B[0m\u001B[1;33m\u001B[0m\u001B[0m\n\u001B[0;32m     68\u001B[0m         \u001B[0mstate_dict\u001B[0m \u001B[1;33m=\u001B[0m \u001B[0mload_state_dict_from_url\u001B[0m\u001B[1;33m(\u001B[0m\u001B[0mmodel_urls\u001B[0m\u001B[1;33m[\u001B[0m\u001B[1;34m'alexnet'\u001B[0m\u001B[1;33m]\u001B[0m\u001B[1;33m,\u001B[0m \u001B[0mprogress\u001B[0m\u001B[1;33m=\u001B[0m\u001B[0mprogress\u001B[0m\u001B[1;33m)\u001B[0m\u001B[1;33m\u001B[0m\u001B[1;33m\u001B[0m\u001B[0m\n\u001B[1;32m---> 69\u001B[1;33m         \u001B[0mmodel\u001B[0m\u001B[1;33m.\u001B[0m\u001B[0mload_state_dict\u001B[0m\u001B[1;33m(\u001B[0m\u001B[0mstate_dict\u001B[0m\u001B[1;33m)\u001B[0m\u001B[1;33m\u001B[0m\u001B[1;33m\u001B[0m\u001B[0m\n\u001B[0m\u001B[0;32m     70\u001B[0m \u001B[1;33m\u001B[0m\u001B[0m\n\u001B[0;32m     71\u001B[0m     \u001B[1;31m# model.dann_classifier[1].weight.data = model.classifier[1].weight.data\u001B[0m\u001B[1;33m\u001B[0m\u001B[1;33m\u001B[0m\u001B[1;33m\u001B[0m\u001B[0m\n",
      "\u001B[1;32m~\\anaconda3\\lib\\site-packages\\torch\\nn\\modules\\module.py\u001B[0m in \u001B[0;36mload_state_dict\u001B[1;34m(self, state_dict, strict)\u001B[0m\n\u001B[0;32m    845\u001B[0m         \u001B[1;32mif\u001B[0m \u001B[0mlen\u001B[0m\u001B[1;33m(\u001B[0m\u001B[0merror_msgs\u001B[0m\u001B[1;33m)\u001B[0m \u001B[1;33m>\u001B[0m \u001B[1;36m0\u001B[0m\u001B[1;33m:\u001B[0m\u001B[1;33m\u001B[0m\u001B[1;33m\u001B[0m\u001B[0m\n\u001B[0;32m    846\u001B[0m             raise RuntimeError('Error(s) in loading state_dict for {}:\\n\\t{}'.format(\n\u001B[1;32m--> 847\u001B[1;33m                                self.__class__.__name__, \"\\n\\t\".join(error_msgs)))\n\u001B[0m\u001B[0;32m    848\u001B[0m         \u001B[1;32mreturn\u001B[0m \u001B[0m_IncompatibleKeys\u001B[0m\u001B[1;33m(\u001B[0m\u001B[0mmissing_keys\u001B[0m\u001B[1;33m,\u001B[0m \u001B[0munexpected_keys\u001B[0m\u001B[1;33m)\u001B[0m\u001B[1;33m\u001B[0m\u001B[1;33m\u001B[0m\u001B[0m\n\u001B[0;32m    849\u001B[0m \u001B[1;33m\u001B[0m\u001B[0m\n",
      "\u001B[1;31mRuntimeError\u001B[0m: Error(s) in loading state_dict for RandomNetworkWithReverseGrad:\n\tMissing key(s) in state_dict: \"dann_classifier.1.weight\", \"dann_classifier.1.bias\", \"dann_classifier.4.weight\", \"dann_classifier.4.bias\", \"dann_classifier.6.weight\", \"dann_classifier.6.bias\". "
     ]
    }
   ],
   "source": [
    "net = randomNetworkWithReverseGrad(pretrained=True)\n",
    "best_net = randomNetworkWithReverseGrad()\n",
    "\n",
    "net.classifier[6] = nn.Linear(4096, NUM_CLASSES)\n",
    "net.dann_classifier[6]= nn.Linear(4096, NUM_DOMAINS)\n",
    "\n",
    "# for i, (name, param) in enumerate(net.named_parameters()):\n",
    "#   print(i, name)\n",
    "#   if i < 10:  param.requires_grad = False\n",
    "# We just changed the last layer of AlexNet with a new fully connected layer with 101 outputs\n",
    "# It is strongly suggested to study torchvision.models.alexnet source code"
   ]
  },
  {
   "cell_type": "markdown",
   "metadata": {
    "colab_type": "text",
    "id": "KEyL3H_R4qCf"
   },
   "source": [
    "**Prepare Training**"
   ]
  },
  {
   "cell_type": "code",
   "execution_count": null,
   "metadata": {
    "colab": {},
    "colab_type": "code",
    "id": "9sjq00G94tSc"
   },
   "outputs": [],
   "source": [
    "# Define loss function\n",
    "criterion = nn.CrossEntropyLoss() # for classification, we use Cross Entropy\n",
    "\n",
    "# Choose parameters to optimize\n",
    "# To access a different set of parameters, you have to access submodules of AlexNet\n",
    "# (nn.Module objects, like AlexNet, implement the Composite Pattern)\n",
    "# e.g.: parameters of the fully connected layers: net.classifier.parameters()\n",
    "# e.g.: parameters of the convolutional layers: look at alexnet's source code ;) \n",
    "parameters_to_optimize = net.parameters() # In this case we optimize over all the parameters of AlexNet\n",
    "\n",
    "# Define optimizer\n",
    "# An optimizer updates the weights based on loss\n",
    "# We use SGD with momentum\n",
    "\n",
    "optimizer = optim.SGD(parameters_to_optimize, lr=LR, momentum=MOMENTUM, weight_decay=WEIGHT_DECAY)\n",
    "# optimizer = optim.Adam(parameters_to_optimize, lr=LR, weight_decay=WEIGHT_DECAY)\n",
    "\n",
    "# Define scheduler\n",
    "# A scheduler dynamically changes learning rate\n",
    "# The most common schedule is the step(-down), which multiplies learning rate by gamma every STEP_SIZE epochs\n",
    "scheduler = optim.lr_scheduler.StepLR(optimizer, step_size=STEP_SIZE, gamma=GAMMA)\n",
    "\n",
    "\n",
    "  #TODO add the alpha parameter setting\n"
   ]
  },
  {
   "cell_type": "markdown",
   "metadata": {
    "colab_type": "text",
    "id": "AxYUli9d9uYQ"
   },
   "source": [
    "**Train with Validation**"
   ]
  },
  {
   "cell_type": "code",
   "execution_count": null,
   "metadata": {
    "colab": {},
    "colab_type": "code",
    "id": "ZcoQ5fD49yT_"
   },
   "outputs": [],
   "source": [
    "# By default, everything is loaded to cpu\n",
    "net = net.to(DEVICE) # this will bring the network to GPU if DEVICE is cuda\n",
    "cudnn.benchmark = True # Calling this optimizes runtime\n",
    "\n",
    "current_step = 0\n",
    "best_accuracy = 0\n",
    "loss = 0\n",
    "loss_vector = []\n",
    "loss_val = []\n",
    "acc_train_class = []\n",
    "acc_train_domain = []\n",
    "tot_accuracy = []\n",
    "# Start iterating over the epochs\n",
    "for epoch in range(NUM_EPOCHS):\n",
    "  print('Starting epoch {}/{}, LR = {}'.format(epoch+1, NUM_EPOCHS, scheduler.get_lr()))\n",
    "  running_correct_train_class=0\n",
    "  running_correct_train_domain=0\n",
    "\n",
    "  # Iterate over the dataset\n",
    "  for images, labels in train_dataloader:\n",
    "\n",
    "    # Bring data over the device of choice\n",
    "    images = images.to(DEVICE)\n",
    "    labels = labels.to(DEVICE)\n",
    "\n",
    "    net.train().to(DEVICE) # Sets module in training mode\n",
    "\n",
    "    # PyTorch, by default, accumulates gradients after each backward pass\n",
    "    # We need to manually set the gradients to zero before starting a new iteration\n",
    "    optimizer.zero_grad() # Zero-ing the gradients\n",
    "\n",
    "    # Forward pass to the network\n",
    "    class_outputs = net(images)\n",
    "\n",
    "    #Calc the correct for the graph\n",
    "    _, preds = torch.max(class_outputs.data, 1)\n",
    "    running_correct_train_class += torch.sum(preds == labels.data).data.item()\n",
    "\n",
    "    # Compute loss based on output and ground truth\n",
    "    class_loss = criterion(class_outputs, labels)\n",
    "    loss = class_loss\n",
    "    class_loss.backward()\n",
    "\n",
    "    #Train the GD with the domain 0\n",
    "    domains = torch.zeros(len(images), dtype=torch.long)\n",
    "    domain_outputs = net(images, ALFA)\n",
    "\n",
    "    #Calc the correct for the graph\n",
    "    _, preds = torch.max(domain_outputs.data, 1)\n",
    "    running_correct_train_domain += torch.sum(preds == domains.data).data.item()\n",
    "\n",
    "    domain_loss = criterion(domain_outputs, domains)\n",
    "    loss += domain_loss\n",
    "    domain_loss.backward()\n",
    "\n",
    "\n",
    "\n",
    "  #TRAIN THE GD ON TARGET DOMAIN\n",
    "\n",
    "  running_corrects = 0\n",
    "  for images, labels in tqdm(test_dataloader):\n",
    "    images = images.to(DEVICE)\n",
    "    labels = labels.to(DEVICE)\n",
    "    domains = np.ones(len(images), dtype=torch.long)\n",
    "\n",
    "    # Forward Pass\n",
    "    target_outputs = net(images, ALFA)\n",
    "\n",
    "    # Get predictions\n",
    "    _, preds = torch.max(target_outputs.data, 1)\n",
    "    running_corrects += torch.sum(preds == domains.data).data.item()\n",
    "\n",
    "    domain_target_loss = criterion(target_outputs, domains)\n",
    "    loss += domain_target_loss\n",
    "    domain_target_loss.backward()\n",
    "\n",
    "  # Compute gradients for each layer and update weights\n",
    "  #   loss = class_loss + domain_loss + domain_target_loss\n",
    "  #   loss.backward()  # backward pass: computes gradients\n",
    "    optimizer.step() # update weights based on accumulated gradients\n",
    "\n",
    "    current_step += 1\n",
    "\n",
    "  # Log loss\n",
    "    if current_step % LOG_FREQUENCY == 0:\n",
    "      print('Step {}, Loss {}'.format(current_step, loss.item()))\n",
    "\n",
    "  loss_vector.append(loss.item())\n",
    "  acc_train_class.append(running_correct_train_class / float(len(train_dataset)))\n",
    "  acc_train_domain.append(running_correct_train_domain / float(len(train_dataset)))\n",
    "\n",
    "  # Step the scheduler\n",
    "  scheduler.step()\n",
    "\n",
    "  # Calculate Accuracy\n",
    "  accuracy = running_corrects / float(len(test_dataset))\n",
    "  tot_accuracy.append(accuracy)\n",
    "  print('Test Accuracy: {}'.format(accuracy))\n",
    "\n",
    "  if accuracy>best_accuracy:\n",
    "    best_net = copy.deepcopy(net)\n",
    "    best_accuracy=accuracy"
   ]
  },
  {
   "cell_type": "markdown",
   "metadata": {
    "pycharm": {
     "name": "#%% md\n"
    }
   },
   "source": [
    "**Plots**"
   ]
  },
  {
   "cell_type": "code",
   "execution_count": null,
   "metadata": {
    "pycharm": {
     "name": "#%%\n"
    }
   },
   "outputs": [],
   "source": [
    "csv_name = 'DANN - BS= %d LR= %e  EPOCHS= %d  STEP= %d' % (BATCH_SIZE, LR, NUM_EPOCHS, STEP_SIZE)\n",
    "pd.DataFrame(tot_accuracy, loss_vector).to_csv('./Results/ %s.csv' % csv_name)\n",
    "\n",
    "title = 'LossFunction - BATCH_SIZE= %d LR= %f  EPOCHS= %d  STEP_SIZE= %d GAMMA= %f' % (BATCH_SIZE, LR, NUM_EPOCHS, STEP_SIZE,GAMMA)\n",
    "title2='Accuracy classes - BATCH_SIZE= %d LR= %f  EPOCHS= %d  STEP_SIZE= %d GAMMA= %f' %(BATCH_SIZE, LR, NUM_EPOCHS, STEP_SIZE,GAMMA)\n",
    "\n",
    "x = np.linspace(1, NUM_EPOCHS, NUM_EPOCHS)\n",
    "\n",
    "plt.plot(x, loss_vector,color='mediumseagreen')\n",
    "plt.plot(x, loss_val,color='darkseagreen')\n",
    "plt.title(title)\n",
    "plt.xticks(np.arange(1, NUM_EPOCHS, 4))\n",
    "plt.xlabel('epoch')\n",
    "plt.ylabel('loss')\n",
    "plt.legend(['Loss_train','Loss_val'], loc='best')\n",
    "plt.show()\n",
    "\n",
    "plt.plot(acc_train_class,color='mediumseagreen')\n",
    "plt.plot(tot_accuracy,color='darkseagreen')\n",
    "plt.legend(['accuracy_train','accuracy_val'],loc='best')\n",
    "plt.title(title2)\n",
    "plt.xlabel('epoch')\n",
    "plt.ylabel('accuracy_score')\n",
    "\n",
    "print('Accuracy classes', acc_train_class)\n",
    "print('Accuracy domains', acc_train_domain)\n",
    "print(best_accuracy)"
   ]
  },
  {
   "cell_type": "markdown",
   "metadata": {
    "colab_type": "text",
    "id": "UsHFI-GAJd69"
   },
   "source": [
    "**Test**"
   ]
  },
  {
   "cell_type": "code",
   "execution_count": null,
   "metadata": {
    "colab": {},
    "colab_type": "code",
    "id": "fSHcUqLB5yWO"
   },
   "outputs": [],
   "source": [
    "net = best_net.to(DEVICE) # this will bring the network to GPU if DEVICE is cuda\n",
    "net.train(False) # Set Network to evaluation mode\n",
    "\n",
    "running_corrects_class = 0\n",
    "running_corrects_domain = 0\n",
    "\n",
    "for images, labels in tqdm(test_dataloader):\n",
    "  images = images.to(DEVICE)\n",
    "  labels = labels.to(DEVICE)\n",
    "\n",
    "  # Forward Pass\n",
    "  class_outputs = net(images)\n",
    "  domain_outputs = net(images, ALFA)\n",
    "\n",
    "  # Get predictions\n",
    "  _, preds_class = torch.max(class_outputs.data, 1)\n",
    "  _, preds_domain = torch.max(domain_outputs.data, 1)\n",
    "\n",
    "  # Update Corrects\n",
    "  running_corrects_class += torch.sum(preds == labels.data).data.item()\n",
    "  running_corrects_domain += torch.sum(preds_domain == 1).data.item()\n",
    "\n",
    "# Calculate Accuracy\n",
    "accuracy_class = running_corrects_class / float(len(test_dataset))\n",
    "accuracy_domain = running_corrects_domain / float(len(test_dataset))\n",
    "\n",
    "print('Test Accuracy classes: {}'.format(accuracy_class))\n",
    "print('Test Accuracy domains: {}'.format(accuracy_domain))"
   ]
  }
 ],
 "metadata": {
  "accelerator": "GPU",
  "colab": {
   "collapsed_sections": [],
   "name": "Copy of Homework2-MLDL.ipynb",
   "provenance": [
    {
     "file_id": "1495rzqiMxfqwqBjaanDwDGN7eOS4oXRX",
     "timestamp": 1588594644780
    },
    {
     "file_id": "1PhNPpklp9FbxJEtsZ8Jp9qXQa4aZDK5Y",
     "timestamp": 1586854223220
    }
   ],
   "toc_visible": true
  },
  "kernelspec": {
   "display_name": "PyCharm (HW2)",
   "language": "python",
   "name": "pycharm-ca37dc"
  },
  "language_info": {
   "codemirror_mode": {
    "name": "ipython",
    "version": 3
   },
   "file_extension": ".py",
   "mimetype": "text/x-python",
   "name": "python",
   "nbconvert_exporter": "python",
   "pygments_lexer": "ipython3",
   "version": "3.7.6"
  }
 },
 "nbformat": 4,
 "nbformat_minor": 1
}